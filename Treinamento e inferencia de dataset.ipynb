{
  "cells": [
    {
      "cell_type": "markdown",
      "metadata": {
        "id": "Ur6K44jqW4QF"
      },
      "source": [
        "# Construindo o Darknet"
      ]
    },
    {
      "cell_type": "code",
      "execution_count": null,
      "metadata": {
        "colab": {
          "base_uri": "https://localhost:8080/"
        },
        "collapsed": true,
        "id": "iDqbN8u-XsWr",
        "outputId": "eae26f5b-d094-4f44-fbbc-03419e6e9df1"
      },
      "outputs": [
        {
          "output_type": "stream",
          "name": "stdout",
          "text": [
            "Reading package lists... Done\n",
            "Building dependency tree... Done\n",
            "Reading state information... Done\n",
            "build-essential is already the newest version (12.9ubuntu3).\n",
            "cmake is already the newest version (3.22.1-1ubuntu1.22.04.2).\n",
            "git is already the newest version (1:2.34.1-1ubuntu1.15).\n",
            "libopencv-dev is already the newest version (4.5.4+dfsg-9ubuntu4+jammy1).\n",
            "0 upgraded, 0 newly installed, 0 to remove and 35 not upgraded.\n",
            "/bin/bash: line 1: nvidia-smi: command not found\n",
            "nvcc: NVIDIA (R) Cuda compiler driver\n",
            "Copyright (c) 2005-2024 NVIDIA Corporation\n",
            "Built on Thu_Jun__6_02:18:23_PDT_2024\n",
            "Cuda compilation tools, release 12.5, V12.5.82\n",
            "Build cuda_12.5.r12.5/compiler.34385749_0\n",
            "Cloning into 'darknet'...\n",
            "remote: Enumerating objects: 20495, done.\u001b[K\n",
            "remote: Counting objects: 100% (1305/1305), done.\u001b[K\n",
            "remote: Compressing objects: 100% (255/255), done.\u001b[K\n",
            "remote: Total 20495 (delta 1176), reused 1094 (delta 1049), pack-reused 19190 (from 3)\u001b[K\n",
            "Receiving objects: 100% (20495/20495), 21.23 MiB | 20.60 MiB/s, done.\n",
            "Resolving deltas: 100% (14288/14288), done.\n",
            "/content/darknet/build\n",
            "-- Darknet v4.0-52-g5150ae50\n",
            "-- Darknet branch name: master\n",
            "-- The C compiler identification is GNU 11.4.0\n",
            "-- The CXX compiler identification is GNU 11.4.0\n",
            "-- Detecting C compiler ABI info\n",
            "-- Detecting C compiler ABI info - done\n",
            "-- Check for working C compiler: /usr/bin/cc - skipped\n",
            "-- Detecting C compile features\n",
            "-- Detecting C compile features - done\n",
            "-- Detecting CXX compiler ABI info\n",
            "-- Detecting CXX compiler ABI info - done\n",
            "-- Check for working CXX compiler: /usr/bin/c++ - skipped\n",
            "-- Detecting CXX compile features\n",
            "-- Detecting CXX compile features - done\n",
            "-- Looking for a CUDA compiler\n",
            "-- Looking for a CUDA compiler - /usr/local/cuda/bin/nvcc\n",
            "-- CUDA detected. Darknet will use NVIDIA GPUs.  CUDA compiler is /usr/local/cuda/bin/nvcc.\n",
            "-- The CUDA compiler identification is NVIDIA 12.5.82 with host compiler GNU 11.4.0\n",
            "-- Detecting CUDA compiler ABI info\n"
          ]
        }
      ],
      "source": [
        "!sudo apt-get install build-essential git libopencv-dev cmake\n",
        "\n",
        "!nvidia-smi\n",
        "!nvcc --version\n",
        "\n",
        "!git clone https://github.com/hank-ai/darknet\n",
        "\n",
        "# Build Darknet/YOLO\n",
        "%mkdir -p /content/darknet/build\n",
        "%cd /content/darknet/build\n",
        "!cmake -DCMAKE_BUILD_TYPE=Release ..\n",
        "%cd /content/darknet/build\n",
        "!make -j $(nproc) package\n",
        "\n",
        "\n",
        "!sudo dpkg -i darknet*.deb\n",
        "\n",
        "!darknet --version"
      ]
    },
    {
      "cell_type": "code",
      "execution_count": null,
      "metadata": {
        "id": "H7wlAEjL7WU8"
      },
      "outputs": [],
      "source": [
        "!git clone https://github.com/jpierreribeiro/deteccaodepragas/\n"
      ]
    },
    {
      "cell_type": "code",
      "execution_count": null,
      "metadata": {
        "colab": {
          "base_uri": "https://localhost:8080/"
        },
        "id": "IxQXjcLOShQU",
        "outputId": "46127cd4-25dd-4d4b-85b3-594101dddb71"
      },
      "outputs": [
        {
          "name": "stdout",
          "output_type": "stream",
          "text": [
            "Mounted at /content/drive\n"
          ]
        }
      ],
      "source": [
        "from google.colab import drive\n",
        "drive.mount('/content/drive')"
      ]
    },
    {
      "cell_type": "markdown",
      "metadata": {
        "id": "LWTtdHqAaGlI"
      },
      "source": [
        "# Treino"
      ]
    },
    {
      "cell_type": "code",
      "execution_count": null,
      "metadata": {
        "colab": {
          "background_save": true
        },
        "id": "1rOmelVQaSGd"
      },
      "outputs": [],
      "source": [
        "!darknet detector -map -dont_show train /content/btabaci/btabaci.data /content/btabaci/btabaci.cfg | tee output.log"
      ]
    },
    {
      "cell_type": "code",
      "execution_count": null,
      "metadata": {
        "id": "gk5wOTHx92Gs"
      },
      "outputs": [],
      "source": [
        "#Mostrar os resultados...\n",
        "import cv2 as cv2\n",
        "from matplotlib import pyplot as plt\n",
        "img = cv2.imread('chart.png')\n",
        "plt.imshow(cv2.cvtColor(img, cv2.COLOR_BGR2RGB))"
      ]
    },
    {
      "cell_type": "markdown",
      "metadata": {
        "id": "gbt_BQU_npBB"
      },
      "source": [
        "# Checando resultados"
      ]
    },
    {
      "cell_type": "markdown",
      "source": [
        "Buildando DarkHelp"
      ],
      "metadata": {
        "id": "81o-4N2zb64s"
      }
    },
    {
      "cell_type": "code",
      "execution_count": null,
      "metadata": {
        "id": "RDc6G0obiQKc"
      },
      "outputs": [],
      "source": [
        "!sudo apt-get install build-essential libtclap-dev libmagic-dev libopencv-dev\n",
        "%cd /content\n",
        "\n",
        "!git clone https://github.com/stephanecharette/DarkHelp.git\n",
        "%cd /content/DarkHelp\n",
        "%mkdir build\n",
        "%cd build\n",
        "!cmake -DCMAKE_BUILD_TYPE=Release ..\n",
        "!make -j $(nproc) package\n",
        "!sudo dpkg -i darkhelp*.deb\n",
        "%cd ~\n",
        "!DarkHelp --version"
      ]
    },
    {
      "cell_type": "code",
      "execution_count": null,
      "metadata": {
        "id": "5CsDAHBwnuEi"
      },
      "outputs": [],
      "source": [
        "!DarkHelp /content/btv4/btv4.cfg /content/btv4/tabaci.names /content/drive/MyDrive/artigocomputervision/btv4_best.weights bm.mp4\n",
        "#img = cv2.imread('predictions.jpg')\n",
        "#plt.imshow(cv2.cvtColor(img, cv2.COLOR_BGR2RGB))"
      ]
    },
    {
      "cell_type": "markdown",
      "source": [
        "# Utilizando DarkHelp para analises com melhor desempenho."
      ],
      "metadata": {
        "id": "XZ5rN0hMcOAM"
      }
    },
    {
      "cell_type": "code",
      "execution_count": null,
      "metadata": {
        "id": "EM170bXziDtr"
      },
      "outputs": [],
      "source": [
        "%cd /content/testing\n",
        "\n",
        "import DarkHelp\n",
        "import json\n",
        "from matplotlib import pyplot as plt\n",
        "\n",
        "print(\"DarkHelp v\" + DarkHelp.DarkHelpVersion().decode())\n",
        "print(\"Darknet v\" + DarkHelp.DarknetVersion().decode())\n",
        "\n",
        "dh = DarkHelp.CreateDarkHelpNN(\n",
        "    \"arquivo.cfg\".encode(),\n",
        "    \"arquivo.weights\".encode(),\n",
        "    \"arquivo.names\".encode())\n",
        "DarkHelp.EnableAnnotationAutoHideLabels(dh, False)\n",
        "DarkHelp.EnableNamesIncludePercentage(dh, False)\n",
        "DarkHelp.EnableSnapping(dh, False)\n",
        "DarkHelp.EnableTiles(dh, False)\n",
        "DarkHelp.SetThreshold(dh, 0.20)\n",
        "DarkHelp.SetAnnotationLineThickness(dh, 1)\n",
        "\n",
        "DarkHelp.PredictFN(dh, \"foto.jpg\".encode())\n",
        "\n",
        "DarkHelp.Annotate(dh, \"output.jpg\".encode())\n",
        "img = plt.imread(\"output.jpg\")\n",
        "plt.imshow(img)\n",
        "\n",
        "j = json.loads(DarkHelp.GetPredictionResults(dh))\n",
        "for prediction in j['file'][0]['prediction']:\n",
        "    if False:\n",
        "        print(prediction)\n",
        "    idx = prediction['best_class']\n",
        "    name = prediction['name']\n",
        "    prob = prediction['best_probability'] * 100.0\n",
        "    x = prediction['rect']['x']\n",
        "    y = prediction['rect']['y']\n",
        "    w = prediction['rect']['width']\n",
        "    h = prediction['rect']['height']\n",
        "    print(f\"class #{idx}: {prob:.1f}% \\\"{name}\\\" at {prediction['rect']}\")\n",
        "\n",
        "    if False:\n",
        "        roi = img[y:y+h, x:x+w]\n",
        "        plt.imshow(roi)\n",
        "\n",
        "DarkHelp.DestroyDarkHelpNN(dh)\n"
      ]
    }
  ],
  "metadata": {
    "colab": {
      "provenance": []
    },
    "kernelspec": {
      "display_name": "Python 3",
      "name": "python3"
    },
    "language_info": {
      "name": "python"
    }
  },
  "nbformat": 4,
  "nbformat_minor": 0
}
